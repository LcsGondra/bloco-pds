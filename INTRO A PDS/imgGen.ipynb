{
 "cells": [
  {
   "cell_type": "code",
   "execution_count": 2,
   "metadata": {},
   "outputs": [],
   "source": [
    "import numpy as np\n",
    "import matplotlib.pyplot as plt\n",
    "import cv2"
   ]
  },
  {
   "cell_type": "code",
   "execution_count": 2,
   "metadata": {},
   "outputs": [],
   "source": [
    "\n",
    "linhas = 14\n",
    "colunas = 11\n",
    "\n",
    "matriz = np.ones((linhas, colunas), dtype='uint8')\n",
    "\n",
    "matriz = matriz*255"
   ]
  },
  {
   "cell_type": "code",
   "execution_count": 3,
   "metadata": {},
   "outputs": [],
   "source": [
    "\n",
    "for colunai in range(0, colunas):\n",
    "    matriz[0,colunai]=0\n"
   ]
  },
  {
   "cell_type": "code",
   "execution_count": 4,
   "metadata": {},
   "outputs": [],
   "source": [
    "\n",
    "for linhai in range(0, linhas):\n",
    "    matriz[linhai, 5]=0\n"
   ]
  },
  {
   "cell_type": "code",
   "execution_count": null,
   "metadata": {},
   "outputs": [
    {
     "data": {
      "image/png": "[encoded data removed]",
      "text/plain": [
       "<Figure size 640x480 with 2 Axes>"
      ]
     },
     "metadata": {},
     "output_type": "display_data"
    }
   ],
   "source": [
    "\n",
    "plt.subplot(1, 2, 1)\n",
    "plt.imshow(cv2)\n",
    "\n",
    "plt.subplot(1, 2, 2)\n",
    "plt.imshow(matriz, cmap=plt.cm.gray)\n",
    "plt.axis('off')\n",
    "plt.show()"
   ]
  },
  {
   "cell_type": "code",
   "execution_count": 65,
   "metadata": {},
   "outputs": [],
   "source": [
    "matrizCor = np.ones((linhas, colunas, 3), dtype='uint8')\n",
    "\n",
    "matrizCor = matrizCor*255"
   ]
  },
  {
   "cell_type": "code",
   "execution_count": 66,
   "metadata": {},
   "outputs": [],
   "source": [
    "\n",
    "for linhai in [1,2,4,6,8,10,12]:\n",
    "    matrizCor[linhai, 5, 0]=0\n",
    "    matrizCor[linhai, 5, 1]=0\n",
    "    matrizCor[linhai, 5, 2]=0\n",
    "\n",
    "\n",
    "for colunai in range(0, colunas):\n",
    "    matrizCor[0, colunai, 0]=0\n",
    "    matrizCor[0, colunai, 1]=0\n",
    "    matrizCor[0, colunai, 2]=0\n",
    "\n",
    "    matrizCor[3, colunai, 0]=0\n",
    "    matrizCor[3, colunai, 1]=0\n",
    "\n",
    "    matrizCor[5, colunai, 0]=0\n",
    "\n",
    "    matrizCor[7, colunai, 0]=0\n",
    "    matrizCor[7, colunai, 2]=0\n",
    "\n",
    "    matrizCor[9, colunai, 2]=0\n",
    "\n",
    "    matrizCor[11, colunai, 1]=0\n",
    "    matrizCor[11, colunai, 2]=0\n",
    "\n",
    "    matrizCor[13, colunai, 1]=0\n",
    "\n"
   ]
  },
  {
   "cell_type": "code",
   "execution_count": 67,
   "metadata": {},
   "outputs": [
    {
     "data": {
      "image/png": "[encoded data removed]",
      "text/plain": [
       "<Figure size 640x480 with 1 Axes>"
      ]
     },
     "metadata": {},
     "output_type": "display_data"
    }
   ],
   "source": [
    "plt.imshow(cv2.cvtColor(matrizCor, cv2.COLOR_RGB2BGR))\n",
    "plt.show()"
   ]
  },
  {
   "cell_type": "code",
   "execution_count": 24,
   "metadata": {},
   "outputs": [],
   "source": [
    "ImgOriginal = cv2.imread('bob_ross_mountain.jfif', 1)\n",
    "\n",
    "ordem = ImgOriginal.shape\n",
    "linhasC = ordem[0]\n",
    "colunasC = ordem[1]"
   ]
  },
  {
   "cell_type": "code",
   "execution_count": 28,
   "metadata": {},
   "outputs": [],
   "source": [
    "imgPB=np.ones((linhasC, colunasC, 3), dtype='uint8')\n",
    "\n",
    "for linha in range(0,linhasC):\n",
    "    for coluna in range(0, colunasC):\n",
    "        imgB = ImgOriginal[linha][coluna][0]\n",
    "        imgG = ImgOriginal[linha][coluna][1]\n",
    "        imgR = ImgOriginal[linha][coluna][2]\n",
    "\n",
    "        pb = int(imgB/3+imgG/3+imgR/3)\n",
    "        imgPB[linha][coluna][0]=pb\n",
    "        imgPB[linha][coluna][1]=pb\n",
    "        imgPB[linha][coluna][2]=pb"
   ]
  },
  {
   "cell_type": "code",
   "execution_count": 29,
   "metadata": {},
   "outputs": [],
   "source": [
    "ImgOriginalPB = cv2.imread('bob_ross_mountain.jfif', 0)\n"
   ]
  },
  {
   "cell_type": "code",
   "execution_count": 30,
   "metadata": {},
   "outputs": [],
   "source": [
    "\n",
    "cv2.imshow('bob', ImgOriginal)\n",
    "cv2.waitKey(0)\n",
    "cv2.destroyAllWindows()"
   ]
  },
  {
   "cell_type": "code",
   "execution_count": 31,
   "metadata": {},
   "outputs": [],
   "source": [
    "cv2.imshow('bob_pb', imgPB)\n",
    "cv2.waitKey(0)\n",
    "cv2.destroyAllWindows()"
   ]
  },
  {
   "cell_type": "code",
   "execution_count": 19,
   "metadata": {},
   "outputs": [],
   "source": [
    "\n",
    "cv2.imshow('bob', ImgOriginalPB)\n",
    "cv2.waitKey(0)\n",
    "cv2.destroyAllWindows()"
   ]
  }
 ],
 "metadata": {
  "kernelspec": {
   "display_name": "Python 3",
   "language": "python",
   "name": "python3"
  },
  "language_info": {
   "codemirror_mode": {
    "name": "ipython",
    "version": 3
   },
   "file_extension": ".py",
   "mimetype": "text/x-python",
   "name": "python",
   "nbconvert_exporter": "python",
   "pygments_lexer": "ipython3",
   "version": "3.13.0"
  }
 },
 "nbformat": 4,
 "nbformat_minor": 2
}
