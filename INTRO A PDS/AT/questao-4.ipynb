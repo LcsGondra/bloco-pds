{
 "cells": [
  {
   "cell_type": "code",
   "execution_count": 1,
   "metadata": {},
   "outputs": [],
   "source": [
    "import numpy as np\n",
    "import matplotlib.pyplot as plt\n",
    "import cv2"
   ]
  },
  {
   "cell_type": "code",
   "execution_count": 3,
   "metadata": {},
   "outputs": [
    {
     "name": "stdout",
     "output_type": "stream",
     "text": [
      "linhas:  183\n",
      "colunas:  275\n"
     ]
    }
   ],
   "source": [
    "ImgOriginal = cv2.imread('img_q-4.jfif', 1)\n",
    "\n",
    "ordem = ImgOriginal.shape\n",
    "linhasC = ordem[0]\n",
    "colunasC = ordem[1]\n",
    "print(\"linhas: \", linhasC)\n",
    "print(\"colunas: \", colunasC)"
   ]
  },
  {
   "cell_type": "code",
   "execution_count": 4,
   "metadata": {},
   "outputs": [],
   "source": [
    "imgBGR=np.ones((linhasC, colunasC+50, 3), dtype='uint8')\n",
    "\n",
    "for linha in range(0,linhasC):\n",
    "    for coluna in range(0, colunasC):\n",
    "\n",
    "        imgBGR[linha][coluna][0] = ImgOriginal[linha][coluna][0]\n",
    "        imgBGR[linha][coluna+25][1] = ImgOriginal[linha][coluna][1]\n",
    "        imgBGR[linha][coluna+50][2] = ImgOriginal[linha][coluna][2]"
   ]
  },
  {
   "cell_type": "code",
   "execution_count": 7,
   "metadata": {},
   "outputs": [
    {
     "ename": "KeyboardInterrupt",
     "evalue": "",
     "output_type": "error",
     "traceback": [
      "\u001b[31m---------------------------------------------------------------------------\u001b[39m",
      "\u001b[31mKeyboardInterrupt\u001b[39m                         Traceback (most recent call last)",
      "\u001b[36mCell\u001b[39m\u001b[36m \u001b[39m\u001b[32mIn[7]\u001b[39m\u001b[32m, line 2\u001b[39m\n\u001b[32m      1\u001b[39m cv2.imshow(\u001b[33m'\u001b[39m\u001b[33mcisne\u001b[39m\u001b[33m'\u001b[39m, ImgOriginal)\n\u001b[32m----> \u001b[39m\u001b[32m2\u001b[39m \u001b[43mcv2\u001b[49m\u001b[43m.\u001b[49m\u001b[43mwaitKey\u001b[49m\u001b[43m(\u001b[49m\u001b[32;43m0\u001b[39;49m\u001b[43m)\u001b[49m\n\u001b[32m      3\u001b[39m cv2.destroyAllWindows()\n",
      "\u001b[31mKeyboardInterrupt\u001b[39m: "
     ]
    }
   ],
   "source": [
    "\n",
    "cv2.imshow('cisne', ImgOriginal)\n",
    "cv2.waitKey(0)\n",
    "cv2.destroyAllWindows()"
   ]
  },
  {
   "cell_type": "code",
   "execution_count": null,
   "metadata": {},
   "outputs": [],
   "source": [
    "cv2.imshow('cisne BGR', imgBGR)\n",
    "cv2.waitKey(0)\n",
    "cv2.destroyAllWindows()"
   ]
  }
 ],
 "metadata": {
  "kernelspec": {
   "display_name": "Python 3",
   "language": "python",
   "name": "python3"
  },
  "language_info": {
   "codemirror_mode": {
    "name": "ipython",
    "version": 3
   },
   "file_extension": ".py",
   "mimetype": "text/x-python",
   "name": "python",
   "nbconvert_exporter": "python",
   "pygments_lexer": "ipython3",
   "version": "3.13.0"
  }
 },
 "nbformat": 4,
 "nbformat_minor": 2
}
